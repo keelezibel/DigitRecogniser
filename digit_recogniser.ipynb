{
 "cells": [
  {
   "cell_type": "code",
   "execution_count": 2,
   "metadata": {
    "collapsed": false
   },
   "outputs": [
    {
     "name": "stdout",
     "output_type": "stream",
     "text": [
      "Populating the interactive namespace from numpy and matplotlib\n"
     ]
    },
    {
     "name": "stderr",
     "output_type": "stream",
     "text": [
      "Using TensorFlow backend.\n"
     ]
    }
   ],
   "source": [
    "%pylab inline\n",
    "import os\n",
    "import numpy as np\n",
    "import pandas as pd\n",
    "from scipy.misc import imread\n",
    "from sklearn.metrics import accuracy_score\n",
    "\n",
    "import tensorflow as tf\n",
    "import keras\n",
    "\n",
    "from keras.models import Sequential\n",
    "from keras.layers import Dense, Activation, Dropout, Convolution2D, Flatten, MaxPooling2D, Reshape, InputLayer"
   ]
  },
  {
   "cell_type": "code",
   "execution_count": 3,
   "metadata": {
    "collapsed": true
   },
   "outputs": [],
   "source": [
    "# To stop potential randomness\n",
    "seed = 128\n",
    "rng = np.random.RandomState(seed)"
   ]
  },
  {
   "cell_type": "code",
   "execution_count": 4,
   "metadata": {
    "collapsed": false
   },
   "outputs": [
    {
     "data": {
      "text/plain": [
       "True"
      ]
     },
     "execution_count": 4,
     "metadata": {},
     "output_type": "execute_result"
    }
   ],
   "source": [
    "root_dir = os.path.abspath('.')\n",
    "data_dir = os.path.join(root_dir, 'data')\n",
    "sub_dir = os.path.join(root_dir, 'sub')\n",
    "# check for existence\n",
    "os.path.exists(root_dir)\n",
    "os.path.exists(data_dir)\n",
    "os.path.exists(sub_dir)"
   ]
  },
  {
   "cell_type": "code",
   "execution_count": 5,
   "metadata": {
    "collapsed": false
   },
   "outputs": [
    {
     "data": {
      "text/html": [
       "<div>\n",
       "<table border=\"1\" class=\"dataframe\">\n",
       "  <thead>\n",
       "    <tr style=\"text-align: right;\">\n",
       "      <th></th>\n",
       "      <th>filename</th>\n",
       "      <th>label</th>\n",
       "    </tr>\n",
       "  </thead>\n",
       "  <tbody>\n",
       "    <tr>\n",
       "      <th>0</th>\n",
       "      <td>0.png</td>\n",
       "      <td>4</td>\n",
       "    </tr>\n",
       "    <tr>\n",
       "      <th>1</th>\n",
       "      <td>1.png</td>\n",
       "      <td>9</td>\n",
       "    </tr>\n",
       "    <tr>\n",
       "      <th>2</th>\n",
       "      <td>2.png</td>\n",
       "      <td>1</td>\n",
       "    </tr>\n",
       "    <tr>\n",
       "      <th>3</th>\n",
       "      <td>3.png</td>\n",
       "      <td>7</td>\n",
       "    </tr>\n",
       "    <tr>\n",
       "      <th>4</th>\n",
       "      <td>4.png</td>\n",
       "      <td>3</td>\n",
       "    </tr>\n",
       "  </tbody>\n",
       "</table>\n",
       "</div>"
      ],
      "text/plain": [
       "  filename  label\n",
       "0    0.png      4\n",
       "1    1.png      9\n",
       "2    2.png      1\n",
       "3    3.png      7\n",
       "4    4.png      3"
      ]
     },
     "execution_count": 5,
     "metadata": {},
     "output_type": "execute_result"
    }
   ],
   "source": [
    "train = pd.read_csv(os.path.join(data_dir, 'Train', 'train.csv'))\n",
    "test = pd.read_csv(os.path.join(data_dir, 'Test.csv'))\n",
    "\n",
    "sample_submission = pd.read_csv(os.path.join(data_dir, 'Sample_Submission.csv'))\n",
    "\n",
    "train.head()"
   ]
  },
  {
   "cell_type": "code",
   "execution_count": 6,
   "metadata": {
    "collapsed": false
   },
   "outputs": [
    {
     "data": {
      "image/png": "[encoded data removed]",
      "text/plain": [
       "<matplotlib.figure.Figure at 0x121f34da0>"
      ]
     },
     "metadata": {},
     "output_type": "display_data"
    }
   ],
   "source": [
    "img_name = rng.choice(train.filename)\n",
    "filepath = os.path.join(data_dir, 'Train', 'Images', 'train', img_name)\n",
    "\n",
    "img = imread(filepath, flatten=True)\n",
    "\n",
    "pylab.imshow(img, cmap='gray')\n",
    "pylab.axis('off')\n",
    "pylab.show()"
   ]
  },
  {
   "cell_type": "code",
   "execution_count": 7,
   "metadata": {
    "collapsed": false
   },
   "outputs": [],
   "source": [
    "# Store images as numpy arrays\n",
    "temp = []\n",
    "for img_name in train.filename:\n",
    "    image_path = os.path.join(data_dir, 'Train', 'Images', 'train', img_name)\n",
    "    img = imread(image_path, flatten=True)\n",
    "    img = img.astype('float32')\n",
    "    temp.append(img)\n",
    "    \n",
    "train_x = np.stack(temp)\n",
    "\n",
    "train_x /= 255.0\n",
    "train_x = train_x.reshape(-1, 784).astype('float32')\n",
    "\n",
    "temp = []\n",
    "for img_name in test.filename:\n",
    "    image_path = os.path.join(data_dir, 'Train', 'Images', 'test', img_name)\n",
    "    img = imread(image_path, flatten=True)\n",
    "    img = img.astype('float32')\n",
    "    temp.append(img)\n",
    "    \n",
    "test_x = np.stack(temp)\n",
    "\n",
    "test_x /= 255.0\n",
    "test_x = test_x.reshape(-1, 784).astype('float32')"
   ]
  },
  {
   "cell_type": "code",
   "execution_count": 8,
   "metadata": {
    "collapsed": false
   },
   "outputs": [],
   "source": [
    "# One hot encoding to convert values to categories\n",
    "train_y = keras.utils.np_utils.to_categorical(train.label.values)"
   ]
  },
  {
   "cell_type": "markdown",
   "metadata": {},
   "source": [
    "### Split training data into training and validation"
   ]
  },
  {
   "cell_type": "code",
   "execution_count": 9,
   "metadata": {
    "collapsed": false
   },
   "outputs": [],
   "source": [
    "# 70% split into training, 30% split into validation\n",
    "split_size = int(train_x.shape[0]*0.7)\n",
    "\n",
    "train_x, val_x = train_x[:split_size], train_x[split_size:]\n",
    "train_y, val_y = train_y[:split_size], train_y[split_size:]"
   ]
  },
  {
   "cell_type": "code",
   "execution_count": 10,
   "metadata": {
    "collapsed": false
   },
   "outputs": [
    {
     "data": {
      "text/plain": [
       "34300    3\n",
       "34301    1\n",
       "34302    6\n",
       "34303    8\n",
       "34304    3\n",
       "34305    8\n",
       "34306    8\n",
       "34307    9\n",
       "34308    3\n",
       "34309    8\n",
       "34310    4\n",
       "34311    6\n",
       "34312    6\n",
       "34313    3\n",
       "34314    6\n",
       "34315    7\n",
       "34316    5\n",
       "34317    3\n",
       "34318    0\n",
       "34319    3\n",
       "34320    9\n",
       "34321    3\n",
       "34322    8\n",
       "34323    8\n",
       "34324    7\n",
       "34325    4\n",
       "34326    3\n",
       "34327    8\n",
       "34328    6\n",
       "34329    5\n",
       "        ..\n",
       "48970    7\n",
       "48971    5\n",
       "48972    0\n",
       "48973    1\n",
       "48974    4\n",
       "48975    1\n",
       "48976    7\n",
       "48977    5\n",
       "48978    6\n",
       "48979    5\n",
       "48980    6\n",
       "48981    3\n",
       "48982    5\n",
       "48983    5\n",
       "48984    9\n",
       "48985    2\n",
       "48986    9\n",
       "48987    0\n",
       "48988    0\n",
       "48989    7\n",
       "48990    0\n",
       "48991    1\n",
       "48992    1\n",
       "48993    6\n",
       "48994    9\n",
       "48995    2\n",
       "48996    4\n",
       "48997    9\n",
       "48998    3\n",
       "48999    0\n",
       "Name: label, dtype: int64"
      ]
     },
     "execution_count": 10,
     "metadata": {},
     "output_type": "execute_result"
    }
   ],
   "source": [
    "train.label.ix[split_size:]"
   ]
  },
  {
   "cell_type": "markdown",
   "metadata": {},
   "source": [
    "### Set up training model"
   ]
  },
  {
   "cell_type": "code",
   "execution_count": 22,
   "metadata": {
    "collapsed": false
   },
   "outputs": [],
   "source": [
    "# 3 layers: Input, Hidden, Output\n",
    "# Input : 28 * 28 \n",
    "# Output : 10 * 1 classes\n",
    "# 50 hidden neurons\n",
    "# Adam as our optimization algorithms, which is an efficient variant of Gradient Descent algorithm\n",
    "\n",
    "# define vars\n",
    "input_num_units = 784\n",
    "hidden_num_units = 50\n",
    "output_num_units = 10\n",
    "\n",
    "epochs = 5\n",
    "batch_size = 128\n",
    "\n",
    "# create model\n",
    "model = Sequential([\n",
    "  Dense(units=hidden_num_units, input_dim=input_num_units, activation='relu'),\n",
    "  Dense(units=output_num_units, input_dim=hidden_num_units, activation='softmax'),\n",
    "])\n",
    "\n",
    "# compile the model with necessary attributes\n",
    "model.compile(loss='categorical_crossentropy', optimizer='adam', metrics=['accuracy'])"
   ]
  },
  {
   "cell_type": "code",
   "execution_count": 23,
   "metadata": {
    "collapsed": false
   },
   "outputs": [
    {
     "name": "stdout",
     "output_type": "stream",
     "text": [
      "Train on 34300 samples, validate on 14700 samples\n",
      "Epoch 1/5\n",
      "34300/34300 [==============================] - 1s - loss: 0.5661 - acc: 0.8473 - val_loss: 0.3135 - val_acc: 0.9115\n",
      "Epoch 2/5\n",
      "34300/34300 [==============================] - 1s - loss: 0.2592 - acc: 0.9263 - val_loss: 0.2512 - val_acc: 0.9301\n",
      "Epoch 3/5\n",
      "34300/34300 [==============================] - 1s - loss: 0.2108 - acc: 0.9403 - val_loss: 0.2188 - val_acc: 0.9390\n",
      "Epoch 4/5\n",
      "34300/34300 [==============================] - 1s - loss: 0.1807 - acc: 0.9481 - val_loss: 0.2014 - val_acc: 0.9428\n",
      "Epoch 5/5\n",
      "34300/34300 [==============================] - 1s - loss: 0.1596 - acc: 0.9545 - val_loss: 0.1862 - val_acc: 0.9470\n"
     ]
    }
   ],
   "source": [
    "trained_model = model.fit(train_x, train_y, epochs=epochs, batch_size=batch_size, validation_data=(val_x, val_y))"
   ]
  },
  {
   "cell_type": "markdown",
   "metadata": {},
   "source": [
    "### Evaluate model"
   ]
  },
  {
   "cell_type": "code",
   "execution_count": 14,
   "metadata": {
    "collapsed": false
   },
   "outputs": [
    {
     "name": "stdout",
     "output_type": "stream",
     "text": [
      "20672/21000 [============================>.] - ETA: 0sPrediction is:  9\n"
     ]
    },
    {
     "data": {
      "image/png": "[encoded data removed]",
      "text/plain": [
       "<matplotlib.figure.Figure at 0x121f411d0>"
      ]
     },
     "metadata": {},
     "output_type": "display_data"
    }
   ],
   "source": [
    "pred = model.predict_classes(test_x)\n",
    "\n",
    "img_name = rng.choice(test.filename)\n",
    "filepath = os.path.join(data_dir, 'Train', 'Images', 'test', img_name)\n",
    "\n",
    "img = imread(filepath, flatten=True)\n",
    "\n",
    "test_index = int(img_name.split('.')[0]) - train.shape[0]\n",
    "\n",
    "print(\"Prediction is: \", pred[test_index])\n",
    "\n",
    "pylab.imshow(img, cmap='gray')\n",
    "pylab.axis('off')\n",
    "pylab.show()"
   ]
  },
  {
   "cell_type": "code",
   "execution_count": null,
   "metadata": {
    "collapsed": true
   },
   "outputs": [],
   "source": [
    "'''\n",
    "Some important parameters to look out for while optimizing neural networks are:\n",
    "\n",
    "Type of architecture\n",
    "Number of Layers\n",
    "Number of Neurons in a layer\n",
    "Regularization parameters\n",
    "Learning Rate\n",
    "Type of optimization / backpropagation technique to use\n",
    "Dropout rate\n",
    "Weight sharing\n",
    "'''"
   ]
  },
  {
   "cell_type": "markdown",
   "metadata": {},
   "source": [
    "### Train a wide model instead, more hidden neurons"
   ]
  },
  {
   "cell_type": "code",
   "execution_count": 31,
   "metadata": {
    "collapsed": true
   },
   "outputs": [],
   "source": [
    "# 3 layers: Input, Hidden, Output\n",
    "# Input : 28 * 28 \n",
    "# Output : 10 * 1 classes\n",
    "# 500 hidden neurons\n",
    "# Adam as our optimization algorithms, which is an efficient variant of Gradient Descent algorithm\n",
    "\n",
    "# define vars\n",
    "input_num_units = 784\n",
    "hidden_num_units = 500\n",
    "output_num_units = 10\n",
    "\n",
    "epochs = 5\n",
    "batch_size = 128\n",
    "\n",
    "# create model\n",
    "model = Sequential([\n",
    "  Dense(units=hidden_num_units, input_dim=input_num_units, activation='relu'),\n",
    "  Dense(units=output_num_units, input_dim=hidden_num_units, activation='softmax'),\n",
    "])\n",
    "\n",
    "# compile the model with necessary attributes\n",
    "model.compile(loss='categorical_crossentropy', optimizer='adam', metrics=['accuracy'])"
   ]
  },
  {
   "cell_type": "code",
   "execution_count": 25,
   "metadata": {
    "collapsed": false
   },
   "outputs": [
    {
     "name": "stdout",
     "output_type": "stream",
     "text": [
      "Train on 34300 samples, validate on 14700 samples\n",
      "Epoch 1/5\n",
      "34300/34300 [==============================] - 5s - loss: 0.3375 - acc: 0.9063 - val_loss: 0.1938 - val_acc: 0.9462\n",
      "Epoch 2/5\n",
      "34300/34300 [==============================] - 4s - loss: 0.1470 - acc: 0.9576 - val_loss: 0.1403 - val_acc: 0.9598\n",
      "Epoch 3/5\n",
      "34300/34300 [==============================] - 4s - loss: 0.0968 - acc: 0.9729 - val_loss: 0.1175 - val_acc: 0.9646\n",
      "Epoch 4/5\n",
      "34300/34300 [==============================] - 4s - loss: 0.0698 - acc: 0.9797 - val_loss: 0.1010 - val_acc: 0.9692\n",
      "Epoch 5/5\n",
      "34300/34300 [==============================] - 4s - loss: 0.0507 - acc: 0.9853 - val_loss: 0.0942 - val_acc: 0.9713\n"
     ]
    }
   ],
   "source": [
    "trained_model = model.fit(train_x, train_y, epochs=epochs, batch_size=batch_size, validation_data=(val_x, val_y))"
   ]
  },
  {
   "cell_type": "markdown",
   "metadata": {},
   "source": [
    "### Train more hidden layers instead"
   ]
  },
  {
   "cell_type": "code",
   "execution_count": 33,
   "metadata": {
    "collapsed": false
   },
   "outputs": [],
   "source": [
    "# 7 layers: Input, Hidden * 5, Output\n",
    "# Input : 28 * 28 \n",
    "# Output : 10 * 1 classes\n",
    "# 50 hidden neurons\n",
    "# Adam as our optimization algorithms, which is an efficient variant of Gradient Descent algorithm\n",
    "\n",
    "# define vars\n",
    "input_num_units = 784\n",
    "hidden1_num_units = 50\n",
    "hidden2_num_units = 50\n",
    "hidden3_num_units = 50\n",
    "hidden4_num_units = 50\n",
    "hidden5_num_units = 50\n",
    "output_num_units = 10\n",
    "\n",
    "epochs = 5\n",
    "batch_size = 128\n",
    "\n",
    "model = Sequential([\n",
    " Dense(units=hidden1_num_units, input_dim=input_num_units, activation='relu'),\n",
    " Dense(units=hidden2_num_units, input_dim=hidden1_num_units, activation='relu'),\n",
    " Dense(units=hidden3_num_units, input_dim=hidden2_num_units, activation='relu'),\n",
    " Dense(units=hidden4_num_units, input_dim=hidden3_num_units, activation='relu'),\n",
    " Dense(units=hidden5_num_units, input_dim=hidden4_num_units, activation='relu'),\n",
    " Dense(units=output_num_units, input_dim=hidden5_num_units, activation='softmax'),\n",
    " ])\n",
    "\n",
    "# compile the model with necessary attributes\n",
    "model.compile(loss='categorical_crossentropy', optimizer='adam', metrics=['accuracy'])"
   ]
  },
  {
   "cell_type": "code",
   "execution_count": 30,
   "metadata": {
    "collapsed": false
   },
   "outputs": [
    {
     "name": "stdout",
     "output_type": "stream",
     "text": [
      "Train on 34300 samples, validate on 14700 samples\n",
      "Epoch 1/5\n",
      "34300/34300 [==============================] - 2s - loss: 0.5938 - acc: 0.8188 - val_loss: 0.2619 - val_acc: 0.9223\n",
      "Epoch 2/5\n",
      "34300/34300 [==============================] - 1s - loss: 0.2120 - acc: 0.9377 - val_loss: 0.2020 - val_acc: 0.9402\n",
      "Epoch 3/5\n",
      "34300/34300 [==============================] - 1s - loss: 0.1592 - acc: 0.9527 - val_loss: 0.1746 - val_acc: 0.9466\n",
      "Epoch 4/5\n",
      "34300/34300 [==============================] - 1s - loss: 0.1271 - acc: 0.9614 - val_loss: 0.1903 - val_acc: 0.9436\n",
      "Epoch 5/5\n",
      "34300/34300 [==============================] - 1s - loss: 0.1062 - acc: 0.9674 - val_loss: 0.1486 - val_acc: 0.9541\n"
     ]
    }
   ],
   "source": [
    "# Overfitted model\n",
    "trained_model = model.fit(train_x, train_y, epochs=epochs, batch_size=batch_size, validation_data=(val_x, val_y))"
   ]
  },
  {
   "cell_type": "markdown",
   "metadata": {},
   "source": [
    "### Introduce Dropout layer to reduce overfitting"
   ]
  },
  {
   "cell_type": "code",
   "execution_count": 34,
   "metadata": {
    "collapsed": true
   },
   "outputs": [],
   "source": [
    "# 7 layers: Input, Hidden * 5, Output\n",
    "# Input : 28 * 28 \n",
    "# Output : 10 * 1 classes\n",
    "# 50 hidden neurons\n",
    "# Adam as our optimization algorithms, which is an efficient variant of Gradient Descent algorithm\n",
    "\n",
    "# define vars\n",
    "input_num_units = 784\n",
    "hidden1_num_units = 50\n",
    "hidden2_num_units = 50\n",
    "hidden3_num_units = 50\n",
    "hidden4_num_units = 50\n",
    "hidden5_num_units = 50\n",
    "output_num_units = 10\n",
    "\n",
    "epochs = 5\n",
    "batch_size = 128\n",
    "\n",
    "dropout_ratio = 0.2\n",
    "\n",
    "model = Sequential([\n",
    " Dense(units=hidden1_num_units, input_dim=input_num_units, activation='relu'),\n",
    " Dropout(dropout_ratio),\n",
    " Dense(units=hidden2_num_units, input_dim=hidden1_num_units, activation='relu'),\n",
    " Dropout(dropout_ratio),\n",
    " Dense(units=hidden3_num_units, input_dim=hidden2_num_units, activation='relu'),\n",
    " Dropout(dropout_ratio),\n",
    " Dense(units=hidden4_num_units, input_dim=hidden3_num_units, activation='relu'),\n",
    " Dropout(dropout_ratio),\n",
    " Dense(units=hidden5_num_units, input_dim=hidden4_num_units, activation='relu'),\n",
    " Dropout(dropout_ratio),\n",
    " Dense(units=output_num_units, input_dim=hidden5_num_units, activation='softmax'),\n",
    " ])\n",
    "\n",
    "# compile the model with necessary attributes\n",
    "model.compile(loss='categorical_crossentropy', optimizer='adam', metrics=['accuracy'])"
   ]
  },
  {
   "cell_type": "code",
   "execution_count": 35,
   "metadata": {
    "collapsed": false
   },
   "outputs": [
    {
     "name": "stdout",
     "output_type": "stream",
     "text": [
      "Train on 34300 samples, validate on 14700 samples\n",
      "Epoch 1/5\n",
      "34300/34300 [==============================] - 3s - loss: 1.1866 - acc: 0.5913 - val_loss: 0.3904 - val_acc: 0.8950\n",
      "Epoch 2/5\n",
      "34300/34300 [==============================] - 2s - loss: 0.4963 - acc: 0.8579 - val_loss: 0.2807 - val_acc: 0.9252\n",
      "Epoch 3/5\n",
      "34300/34300 [==============================] - 2s - loss: 0.3802 - acc: 0.8980 - val_loss: 0.2452 - val_acc: 0.9339\n",
      "Epoch 4/5\n",
      "34300/34300 [==============================] - 2s - loss: 0.3249 - acc: 0.9164 - val_loss: 0.2102 - val_acc: 0.9428\n",
      "Epoch 5/5\n",
      "34300/34300 [==============================] - 2s - loss: 0.2930 - acc: 0.9224 - val_loss: 0.1998 - val_acc: 0.9459\n"
     ]
    }
   ],
   "source": [
    "trained_model = model.fit(train_x, train_y, epochs=epochs, batch_size=batch_size, validation_data=(val_x, val_y))"
   ]
  },
  {
   "cell_type": "markdown",
   "metadata": {},
   "source": [
    "### Increase number of epochs"
   ]
  },
  {
   "cell_type": "code",
   "execution_count": 36,
   "metadata": {
    "collapsed": true
   },
   "outputs": [],
   "source": [
    "# 7 layers: Input, Hidden * 5, Output\n",
    "# Input : 28 * 28 \n",
    "# Output : 10 * 1 classes\n",
    "# 50 hidden neurons\n",
    "# Adam as our optimization algorithms, which is an efficient variant of Gradient Descent algorithm\n",
    "\n",
    "# define vars\n",
    "input_num_units = 784\n",
    "hidden1_num_units = 50\n",
    "hidden2_num_units = 50\n",
    "hidden3_num_units = 50\n",
    "hidden4_num_units = 50\n",
    "hidden5_num_units = 50\n",
    "output_num_units = 10\n",
    "\n",
    "epochs = 50\n",
    "batch_size = 128\n",
    "\n",
    "dropout_ratio = 0.2\n",
    "\n",
    "model = Sequential([\n",
    " Dense(units=hidden1_num_units, input_dim=input_num_units, activation='relu'),\n",
    " Dropout(dropout_ratio),\n",
    " Dense(units=hidden2_num_units, input_dim=hidden1_num_units, activation='relu'),\n",
    " Dropout(dropout_ratio),\n",
    " Dense(units=hidden3_num_units, input_dim=hidden2_num_units, activation='relu'),\n",
    " Dropout(dropout_ratio),\n",
    " Dense(units=hidden4_num_units, input_dim=hidden3_num_units, activation='relu'),\n",
    " Dropout(dropout_ratio),\n",
    " Dense(units=hidden5_num_units, input_dim=hidden4_num_units, activation='relu'),\n",
    " Dropout(dropout_ratio),\n",
    " Dense(units=output_num_units, input_dim=hidden5_num_units, activation='softmax'),\n",
    " ])\n",
    "\n",
    "# compile the model with necessary attributes\n",
    "model.compile(loss='categorical_crossentropy', optimizer='adam', metrics=['accuracy'])"
   ]
  },
  {
   "cell_type": "code",
   "execution_count": 37,
   "metadata": {
    "collapsed": false,
    "scrolled": true
   },
   "outputs": [
    {
     "name": "stdout",
     "output_type": "stream",
     "text": [
      "Train on 34300 samples, validate on 14700 samples\n",
      "Epoch 1/50\n",
      "34300/34300 [==============================] - 3s - loss: 1.1448 - acc: 0.6056 - val_loss: 0.4032 - val_acc: 0.8867\n",
      "Epoch 2/50\n",
      "34300/34300 [==============================] - 2s - loss: 0.4844 - acc: 0.8636 - val_loss: 0.2850 - val_acc: 0.9222\n",
      "Epoch 3/50\n",
      "34300/34300 [==============================] - 2s - loss: 0.3703 - acc: 0.9000 - val_loss: 0.2349 - val_acc: 0.9368\n",
      "Epoch 4/50\n",
      "34300/34300 [==============================] - 2s - loss: 0.3191 - acc: 0.9173 - val_loss: 0.2222 - val_acc: 0.9401\n",
      "Epoch 5/50\n",
      "34300/34300 [==============================] - 2s - loss: 0.2862 - acc: 0.9248 - val_loss: 0.2062 - val_acc: 0.9450\n",
      "Epoch 6/50\n",
      "34300/34300 [==============================] - 2s - loss: 0.2679 - acc: 0.9317 - val_loss: 0.1979 - val_acc: 0.9488\n",
      "Epoch 7/50\n",
      "34300/34300 [==============================] - 2s - loss: 0.2505 - acc: 0.9345 - val_loss: 0.1837 - val_acc: 0.9518\n",
      "Epoch 8/50\n",
      "34300/34300 [==============================] - 2s - loss: 0.2304 - acc: 0.9399 - val_loss: 0.1690 - val_acc: 0.9563\n",
      "Epoch 9/50\n",
      "34300/34300 [==============================] - 2s - loss: 0.2183 - acc: 0.9448 - val_loss: 0.1796 - val_acc: 0.9539\n",
      "Epoch 10/50\n",
      "34300/34300 [==============================] - 2s - loss: 0.2063 - acc: 0.9457 - val_loss: 0.1711 - val_acc: 0.9560\n",
      "Epoch 11/50\n",
      "34300/34300 [==============================] - 2s - loss: 0.1923 - acc: 0.9499 - val_loss: 0.1751 - val_acc: 0.9548\n",
      "Epoch 12/50\n",
      "34300/34300 [==============================] - 2s - loss: 0.1873 - acc: 0.9513 - val_loss: 0.1645 - val_acc: 0.9574\n",
      "Epoch 13/50\n",
      "34300/34300 [==============================] - 2s - loss: 0.1850 - acc: 0.9508 - val_loss: 0.1615 - val_acc: 0.9595\n",
      "Epoch 14/50\n",
      "34300/34300 [==============================] - 2s - loss: 0.1745 - acc: 0.9552 - val_loss: 0.1674 - val_acc: 0.9573\n",
      "Epoch 15/50\n",
      "34300/34300 [==============================] - 2s - loss: 0.1745 - acc: 0.9541 - val_loss: 0.1591 - val_acc: 0.9571\n",
      "Epoch 16/50\n",
      "34300/34300 [==============================] - 2s - loss: 0.1691 - acc: 0.9559 - val_loss: 0.1518 - val_acc: 0.9590\n",
      "Epoch 17/50\n",
      "34300/34300 [==============================] - 2s - loss: 0.1585 - acc: 0.9583 - val_loss: 0.1624 - val_acc: 0.9587\n",
      "Epoch 18/50\n",
      "34300/34300 [==============================] - 2s - loss: 0.1601 - acc: 0.9572 - val_loss: 0.1618 - val_acc: 0.9596\n",
      "Epoch 19/50\n",
      "34300/34300 [==============================] - 2s - loss: 0.1547 - acc: 0.9596 - val_loss: 0.1564 - val_acc: 0.9594\n",
      "Epoch 20/50\n",
      "34300/34300 [==============================] - 2s - loss: 0.1477 - acc: 0.9610 - val_loss: 0.1565 - val_acc: 0.9608\n",
      "Epoch 21/50\n",
      "34300/34300 [==============================] - 2s - loss: 0.1526 - acc: 0.9596 - val_loss: 0.1529 - val_acc: 0.9614\n",
      "Epoch 22/50\n",
      "34300/34300 [==============================] - 2s - loss: 0.1430 - acc: 0.9618 - val_loss: 0.1526 - val_acc: 0.9612\n",
      "Epoch 23/50\n",
      "34300/34300 [==============================] - 2s - loss: 0.1433 - acc: 0.9623 - val_loss: 0.1465 - val_acc: 0.9632\n",
      "Epoch 24/50\n",
      "34300/34300 [==============================] - 2s - loss: 0.1465 - acc: 0.9610 - val_loss: 0.1520 - val_acc: 0.9606\n",
      "Epoch 25/50\n",
      "34300/34300 [==============================] - 2s - loss: 0.1360 - acc: 0.9638 - val_loss: 0.1525 - val_acc: 0.9623\n",
      "Epoch 26/50\n",
      "34300/34300 [==============================] - 2s - loss: 0.1314 - acc: 0.9650 - val_loss: 0.1600 - val_acc: 0.9599\n",
      "Epoch 27/50\n",
      "34300/34300 [==============================] - 2s - loss: 0.1288 - acc: 0.9657 - val_loss: 0.1483 - val_acc: 0.9614\n",
      "Epoch 28/50\n",
      "34300/34300 [==============================] - 2s - loss: 0.1234 - acc: 0.9674 - val_loss: 0.1599 - val_acc: 0.9601\n",
      "Epoch 29/50\n",
      "34300/34300 [==============================] - 2s - loss: 0.1258 - acc: 0.9667 - val_loss: 0.1576 - val_acc: 0.9595\n",
      "Epoch 30/50\n",
      "34300/34300 [==============================] - 2s - loss: 0.1244 - acc: 0.9664 - val_loss: 0.1489 - val_acc: 0.9615\n",
      "Epoch 31/50\n",
      "34300/34300 [==============================] - 2s - loss: 0.1209 - acc: 0.9673 - val_loss: 0.1558 - val_acc: 0.9602\n",
      "Epoch 32/50\n",
      "34300/34300 [==============================] - 2s - loss: 0.1185 - acc: 0.9678 - val_loss: 0.1532 - val_acc: 0.9632\n",
      "Epoch 33/50\n",
      "34300/34300 [==============================] - 2s - loss: 0.1190 - acc: 0.9684 - val_loss: 0.1524 - val_acc: 0.9618\n",
      "Epoch 34/50\n",
      "34300/34300 [==============================] - 2s - loss: 0.1265 - acc: 0.9655 - val_loss: 0.1538 - val_acc: 0.9622\n",
      "Epoch 35/50\n",
      "34300/34300 [==============================] - 2s - loss: 0.1192 - acc: 0.9684 - val_loss: 0.1539 - val_acc: 0.9620\n",
      "Epoch 36/50\n",
      "34300/34300 [==============================] - 2s - loss: 0.1199 - acc: 0.9675 - val_loss: 0.1598 - val_acc: 0.9612\n",
      "Epoch 37/50\n",
      "34300/34300 [==============================] - 2s - loss: 0.1155 - acc: 0.9690 - val_loss: 0.1587 - val_acc: 0.9618\n",
      "Epoch 38/50\n",
      "34300/34300 [==============================] - 2s - loss: 0.1115 - acc: 0.9691 - val_loss: 0.1591 - val_acc: 0.9620\n",
      "Epoch 39/50\n",
      "34300/34300 [==============================] - 2s - loss: 0.1118 - acc: 0.9699 - val_loss: 0.1536 - val_acc: 0.9619\n",
      "Epoch 40/50\n",
      "34300/34300 [==============================] - 2s - loss: 0.1078 - acc: 0.9704 - val_loss: 0.1574 - val_acc: 0.9640\n",
      "Epoch 41/50\n",
      "34300/34300 [==============================] - 2s - loss: 0.1143 - acc: 0.9694 - val_loss: 0.1577 - val_acc: 0.9624\n",
      "Epoch 42/50\n",
      "34300/34300 [==============================] - 2s - loss: 0.1055 - acc: 0.9721 - val_loss: 0.1532 - val_acc: 0.9620\n",
      "Epoch 43/50\n",
      "34300/34300 [==============================] - 2s - loss: 0.1087 - acc: 0.9711 - val_loss: 0.1548 - val_acc: 0.9618\n",
      "Epoch 44/50\n",
      "34300/34300 [==============================] - 2s - loss: 0.1061 - acc: 0.9718 - val_loss: 0.1520 - val_acc: 0.9622\n",
      "Epoch 45/50\n",
      "34300/34300 [==============================] - 2s - loss: 0.1072 - acc: 0.9701 - val_loss: 0.1554 - val_acc: 0.9636\n",
      "Epoch 46/50\n",
      "34300/34300 [==============================] - 2s - loss: 0.1025 - acc: 0.9722 - val_loss: 0.1623 - val_acc: 0.9616\n",
      "Epoch 47/50\n",
      "34300/34300 [==============================] - 2s - loss: 0.1091 - acc: 0.9703 - val_loss: 0.1574 - val_acc: 0.9627\n",
      "Epoch 48/50\n",
      "34300/34300 [==============================] - 2s - loss: 0.1024 - acc: 0.9718 - val_loss: 0.1512 - val_acc: 0.9640\n",
      "Epoch 49/50\n",
      "34300/34300 [==============================] - 2s - loss: 0.1010 - acc: 0.9725 - val_loss: 0.1626 - val_acc: 0.9620\n",
      "Epoch 50/50\n",
      "34300/34300 [==============================] - 2s - loss: 0.1055 - acc: 0.9711 - val_loss: 0.1594 - val_acc: 0.9631\n"
     ]
    }
   ],
   "source": [
    "trained_model = model.fit(train_x, train_y, epochs=epochs, batch_size=batch_size, validation_data=(val_x, val_y))"
   ]
  },
  {
   "cell_type": "markdown",
   "metadata": {},
   "source": [
    "### Wide and deep network"
   ]
  },
  {
   "cell_type": "code",
   "execution_count": 38,
   "metadata": {
    "collapsed": true
   },
   "outputs": [],
   "source": [
    "# 7 layers: Input, Hidden * 5, Output\n",
    "# Input : 28 * 28 \n",
    "# Output : 10 * 1 classes\n",
    "# 500 hidden neurons\n",
    "# Adam as our optimization algorithms, which is an efficient variant of Gradient Descent algorithm\n",
    "\n",
    "# define vars\n",
    "input_num_units = 784\n",
    "hidden1_num_units = 500\n",
    "hidden2_num_units = 500\n",
    "hidden3_num_units = 500\n",
    "hidden4_num_units = 500\n",
    "hidden5_num_units = 500\n",
    "output_num_units = 10\n",
    "\n",
    "epochs = 25\n",
    "batch_size = 128\n",
    "\n",
    "dropout_ratio = 0.2\n",
    "\n",
    "model = Sequential([\n",
    " Dense(units=hidden1_num_units, input_dim=input_num_units, activation='relu'),\n",
    " Dropout(dropout_ratio),\n",
    " Dense(units=hidden2_num_units, input_dim=hidden1_num_units, activation='relu'),\n",
    " Dropout(dropout_ratio),\n",
    " Dense(units=hidden3_num_units, input_dim=hidden2_num_units, activation='relu'),\n",
    " Dropout(dropout_ratio),\n",
    " Dense(units=hidden4_num_units, input_dim=hidden3_num_units, activation='relu'),\n",
    " Dropout(dropout_ratio),\n",
    " Dense(units=hidden5_num_units, input_dim=hidden4_num_units, activation='relu'),\n",
    " Dropout(dropout_ratio),\n",
    " Dense(units=output_num_units, input_dim=hidden5_num_units, activation='softmax'),\n",
    " ])\n",
    "\n",
    "# compile the model with necessary attributes\n",
    "model.compile(loss='categorical_crossentropy', optimizer='adam', metrics=['accuracy'])"
   ]
  },
  {
   "cell_type": "code",
   "execution_count": 39,
   "metadata": {
    "collapsed": false,
    "scrolled": true
   },
   "outputs": [
    {
     "name": "stdout",
     "output_type": "stream",
     "text": [
      "Train on 34300 samples, validate on 14700 samples\n",
      "Epoch 1/25\n",
      "34300/34300 [==============================] - 18s - loss: 0.3876 - acc: 0.8789 - val_loss: 0.1568 - val_acc: 0.9535\n",
      "Epoch 2/25\n",
      "34300/34300 [==============================] - 16s - loss: 0.1545 - acc: 0.9552 - val_loss: 0.1390 - val_acc: 0.9571\n",
      "Epoch 3/25\n",
      "34300/34300 [==============================] - 15s - loss: 0.1155 - acc: 0.9650 - val_loss: 0.1071 - val_acc: 0.9683\n",
      "Epoch 4/25\n",
      "34300/34300 [==============================] - 16s - loss: 0.0934 - acc: 0.9734 - val_loss: 0.1081 - val_acc: 0.9700\n",
      "Epoch 5/25\n",
      "34300/34300 [==============================] - 16s - loss: 0.0796 - acc: 0.9768 - val_loss: 0.0941 - val_acc: 0.9744\n",
      "Epoch 6/25\n",
      "34300/34300 [==============================] - 16s - loss: 0.0654 - acc: 0.9803 - val_loss: 0.1067 - val_acc: 0.9737\n",
      "Epoch 7/25\n",
      "34300/34300 [==============================] - 17s - loss: 0.0607 - acc: 0.9818 - val_loss: 0.1102 - val_acc: 0.9709\n",
      "Epoch 8/25\n",
      "34300/34300 [==============================] - 16s - loss: 0.0534 - acc: 0.9852 - val_loss: 0.1098 - val_acc: 0.9731\n",
      "Epoch 9/25\n",
      "34300/34300 [==============================] - 18s - loss: 0.0514 - acc: 0.9852 - val_loss: 0.1021 - val_acc: 0.9746\n",
      "Epoch 10/25\n",
      "34300/34300 [==============================] - 17s - loss: 0.0456 - acc: 0.9866 - val_loss: 0.1270 - val_acc: 0.9706\n",
      "Epoch 11/25\n",
      "34300/34300 [==============================] - 15s - loss: 0.0463 - acc: 0.9864 - val_loss: 0.1201 - val_acc: 0.9704\n",
      "Epoch 12/25\n",
      "34300/34300 [==============================] - 15s - loss: 0.0390 - acc: 0.9890 - val_loss: 0.1154 - val_acc: 0.9737\n",
      "Epoch 13/25\n",
      "34300/34300 [==============================] - 16s - loss: 0.0399 - acc: 0.9882 - val_loss: 0.1100 - val_acc: 0.9762\n",
      "Epoch 14/25\n",
      "34300/34300 [==============================] - 15s - loss: 0.0337 - acc: 0.9903 - val_loss: 0.1234 - val_acc: 0.9743\n",
      "Epoch 15/25\n",
      "34300/34300 [==============================] - 15s - loss: 0.0357 - acc: 0.9893 - val_loss: 0.1164 - val_acc: 0.9730\n",
      "Epoch 16/25\n",
      "34300/34300 [==============================] - 15s - loss: 0.0338 - acc: 0.9895 - val_loss: 0.1351 - val_acc: 0.9739\n",
      "Epoch 17/25\n",
      "34300/34300 [==============================] - 15s - loss: 0.0298 - acc: 0.9912 - val_loss: 0.1281 - val_acc: 0.9742\n",
      "Epoch 18/25\n",
      "34300/34300 [==============================] - 17s - loss: 0.0306 - acc: 0.9916 - val_loss: 0.1074 - val_acc: 0.9768\n",
      "Epoch 19/25\n",
      "34300/34300 [==============================] - 18s - loss: 0.0293 - acc: 0.9917 - val_loss: 0.1135 - val_acc: 0.9769\n",
      "Epoch 20/25\n",
      "34300/34300 [==============================] - 16s - loss: 0.0278 - acc: 0.9932 - val_loss: 0.1268 - val_acc: 0.9764\n",
      "Epoch 21/25\n",
      "34300/34300 [==============================] - 14s - loss: 0.0280 - acc: 0.9917 - val_loss: 0.1186 - val_acc: 0.9763\n",
      "Epoch 22/25\n",
      "34300/34300 [==============================] - 16s - loss: 0.0275 - acc: 0.9920 - val_loss: 0.1304 - val_acc: 0.9750\n",
      "Epoch 23/25\n",
      "34300/34300 [==============================] - 15s - loss: 0.0269 - acc: 0.9926 - val_loss: 0.1096 - val_acc: 0.9768\n",
      "Epoch 24/25\n",
      "34300/34300 [==============================] - 16s - loss: 0.0225 - acc: 0.9946 - val_loss: 0.1279 - val_acc: 0.9755\n",
      "Epoch 25/25\n",
      "34300/34300 [==============================] - 16s - loss: 0.0300 - acc: 0.9923 - val_loss: 0.1100 - val_acc: 0.9774\n"
     ]
    }
   ],
   "source": [
    "trained_model = model.fit(train_x, train_y, epochs=epochs, batch_size=batch_size, validation_data=(val_x, val_y))"
   ]
  },
  {
   "cell_type": "markdown",
   "metadata": {},
   "source": [
    "### Use CNN instead of MLP"
   ]
  },
  {
   "cell_type": "code",
   "execution_count": 13,
   "metadata": {
    "collapsed": false
   },
   "outputs": [],
   "source": [
    "# reshape data\n",
    "\n",
    "train_x_temp = train_x.reshape(-1, 28, 28, 1)\n",
    "val_x_temp = val_x.reshape(-1, 28, 28, 1)\n",
    "\n",
    "# define vars\n",
    "input_shape = (784,)\n",
    "input_reshape = (28, 28, 1)\n",
    "\n",
    "conv_num_filters = 5\n",
    "conv_filter_size = 5\n",
    "\n",
    "pool_size = (2, 2)\n",
    "\n",
    "hidden_num_units = 50\n",
    "output_num_units = 10\n",
    "\n",
    "epochs = 5\n",
    "batch_size = 128\n",
    "\n",
    "model = Sequential([\n",
    " InputLayer(input_shape=input_reshape),\n",
    "\n",
    " Convolution2D(25, (5, 5), activation='relu'),\n",
    " MaxPooling2D(pool_size=pool_size),\n",
    "\n",
    " Convolution2D(25, (5, 5), activation='relu'),\n",
    " MaxPooling2D(pool_size=pool_size),\n",
    "\n",
    " Convolution2D(25, (4, 4), activation='relu'),\n",
    " Flatten(),\n",
    "\n",
    " Dense(units=hidden_num_units, activation='relu'),\n",
    " Dense(units=output_num_units, input_dim=hidden_num_units, activation='softmax'),\n",
    "])\n",
    "\n",
    "model.compile(loss='categorical_crossentropy', optimizer='adam', metrics=['accuracy'])"
   ]
  },
  {
   "cell_type": "code",
   "execution_count": 15,
   "metadata": {
    "collapsed": false
   },
   "outputs": [
    {
     "name": "stdout",
     "output_type": "stream",
     "text": [
      "Train on 34300 samples, validate on 14700 samples\n",
      "Epoch 1/5\n",
      "34300/34300 [==============================] - 32s - loss: 0.2123 - acc: 0.9351 - val_loss: 0.1331 - val_acc: 0.9613\n",
      "Epoch 2/5\n",
      "34300/34300 [==============================] - 31s - loss: 0.1044 - acc: 0.9687 - val_loss: 0.1075 - val_acc: 0.9669\n",
      "Epoch 3/5\n",
      "34300/34300 [==============================] - 38s - loss: 0.0782 - acc: 0.9749 - val_loss: 0.0741 - val_acc: 0.9775\n",
      "Epoch 4/5\n",
      "34300/34300 [==============================] - 37s - loss: 0.0600 - acc: 0.9809 - val_loss: 0.0650 - val_acc: 0.9823\n",
      "Epoch 5/5\n",
      "34300/34300 [==============================] - 38s - loss: 0.0524 - acc: 0.9842 - val_loss: 0.0688 - val_acc: 0.9797\n"
     ]
    }
   ],
   "source": [
    "trained_model_conv = model.fit(train_x_temp, train_y, epochs=epochs, batch_size=batch_size, validation_data=(val_x_temp, val_y))"
   ]
  },
  {
   "cell_type": "code",
   "execution_count": 20,
   "metadata": {
    "collapsed": false
   },
   "outputs": [
    {
     "name": "stdout",
     "output_type": "stream",
     "text": [
      "20896/21000 [============================>.] - ETA: 0s"
     ]
    }
   ],
   "source": [
    "test_x_temp = test_x.reshape(-1, 28, 28, 1)\n",
    "pred = model.predict_classes(test_x_temp)\n",
    "sample_submission.filename = test.filename; sample_submission.label = pred\n",
    "sample_submission.to_csv(os.path.join(sub_dir, 'sub.csv'), index=False)"
   ]
  }
 ],
 "metadata": {
  "kernelspec": {
   "display_name": "Python 3",
   "language": "python",
   "name": "python3"
  },
  "language_info": {
   "codemirror_mode": {
    "name": "ipython",
    "version": 3
   },
   "file_extension": ".py",
   "mimetype": "text/x-python",
   "name": "python",
   "nbconvert_exporter": "python",
   "pygments_lexer": "ipython3",
   "version": "3.5.2"
  }
 },
 "nbformat": 4,
 "nbformat_minor": 2
}
